{
 "cells": [
  {
   "cell_type": "markdown",
   "id": "bd67d40b-153d-446e-b6c1-79e0b9bfe34b",
   "metadata": {
    "tags": []
   },
   "source": [
    "# Library\n"
   ]
  },
  {
   "cell_type": "code",
   "execution_count": 1,
   "id": "43bdd465-09af-484b-9c80-261e95f3e118",
   "metadata": {},
   "outputs": [],
   "source": [
    "import os\n",
    "import numpy as np\n",
    "import torch"
   ]
  },
  {
   "cell_type": "code",
   "execution_count": null,
   "id": "ddd629b5-5af8-4d1e-b8b9-d5cab425ac8c",
   "metadata": {},
   "outputs": [],
   "source": [
    "# Device\n",
    "device = torch.device('cuda' if torch.cuda.is_available() else 'cpu')"
   ]
  },
  {
   "cell_type": "markdown",
   "id": "2f5ce069-5a3c-46eb-8efa-ca17c8f7ea10",
   "metadata": {
    "tags": []
   },
   "source": [
    "# Read in the orignal training dataset \n"
   ]
  },
  {
   "cell_type": "code",
   "execution_count": null,
   "id": "43892028-4c9f-47cb-9264-3c23f6725136",
   "metadata": {},
   "outputs": [],
   "source": [
    "# Read in training data\n",
    "data_dir = \"/data/\"\n",
    "output_dir = \"/outputs/\"\n",
    "os.makedirs(output_dir, exist_ok=True)\n",
    "\n",
    "# Parameters\n",
    "filename = os.path.join(data_dir, 'all_params.npy')\n",
    "params_array = np.load(filename).astype(np.float32)\n",
    "all_params = ['DC', 'DN', 'DA', 'DB', 'aC','aA', 'aB', 'aT', 'aL', 'bN','dA', 'dB', 'dT', 'dL', 'k1', \n",
    "              'k2', 'KN', 'KP', 'KT', 'KA', 'KB', 'alpha','beta', 'Cmax', 'a', 'b', 'm', 'n', 'Kphi', 'l', \n",
    "              'N0', 'G1','G2','G3','G4','G5','G6','G7','G8','G9','G10','G11','G12', 'G13','G14',\n",
    "             'G15','G16','G17','G18', 'G19', 'alpha_p','beta_p', 'seeding_v']\n",
    "sceening_params = ['DC',  'aC', 'aA', 'aT', 'aL', 'dA', 'dT', 'dL', 'alpha', 'beta', 'Kphi', 'N0']\n",
    "selected_param_idx = [all_params.index(param) for param in sceening_params]\n",
    "params_array = params_array[:, selected_param_idx]\n",
    "\n",
    "# Pattern types\n",
    "pattern_types_array = np.load(os.path.join(data_dir, 'all_types.npy'))\n",
    "pattern_types_array = pattern_types_array[:, 1]\n",
    "\n",
    "# Check size\n",
    "print(f\"PDE Parameters: {params_array.shape}\")\n",
    "print(f\"Pattern types:  {pattern_types_array.shape}\")"
   ]
  },
  {
   "cell_type": "markdown",
   "id": "5274ed83-7926-40fd-8580-da06883756c9",
   "metadata": {},
   "source": [
    "# Select data to augment"
   ]
  },
  {
   "cell_type": "code",
   "execution_count": 27,
   "id": "2199e3ee-8bdd-40fe-b8d5-448c17b1ed32",
   "metadata": {},
   "outputs": [],
   "source": [
    "# Sort pattern_types_array in descending order and get the indices\n",
    "sorted_indices = np.argsort(pattern_types_array)[::-1]\n",
    "sorted_pattern_types_array = pattern_types_array[sorted_indices]\n",
    "sorted_params_array = params_array[sorted_indices]\n",
    "\n",
    "# Keep 3+ ring patterns\n",
    "filter_mask = sorted_pattern_types_array >= 5\n",
    "filtered_pattern_types_array = sorted_pattern_types_array[filter_mask]\n",
    "filtered_params_array = sorted_params_array[filter_mask]"
   ]
  },
  {
   "cell_type": "code",
   "execution_count": null,
   "id": "d48c4804-0272-4ad1-a5ae-47f90e43751a",
   "metadata": {},
   "outputs": [],
   "source": [
    "# Save \n",
    "filename = output_dir + 'augment_params.npy'\n",
    "np.save(filename, np.array(filtered_params_array))\n",
    "filename = output_dir + 'augment_types.npy'\n",
    "np.save(filename, np.array(filtered_pattern_types_array))\n",
    "\n",
    "# save params as txt\n",
    "filename = os.path.join(output_dir, 'augment_params.txt')\n",
    "np.savetxt(filename, filtered_params_array, delimiter=',', fmt='%0.8f')\n",
    "print(filename)"
   ]
  },
  {
   "cell_type": "markdown",
   "id": "44ea63d7-ce06-4e4a-8863-8d8908190e8c",
   "metadata": {},
   "source": [
    "# Duplicate augment datapoints"
   ]
  },
  {
   "cell_type": "code",
   "execution_count": 33,
   "id": "2e04b288-c561-4348-9d36-59d726114a11",
   "metadata": {},
   "outputs": [],
   "source": [
    "def expand_to_num(types_array, params_array):\n",
    "    \n",
    "    unique_values, counts = np.unique(types_array, return_counts=True)\n",
    "    expanded_array = []\n",
    "    expanded_params_array = []\n",
    "    for value, count in zip(unique_values, counts):\n",
    "        total_num = 10000 # Target # of parameters\n",
    "        repeat_times = round(total_num/count)\n",
    "        indices = np.where(types_array == value)\n",
    "        print('type to augment: ', value)\n",
    "\n",
    "        print('final #', len(indices[0])*repeat_times)\n",
    "        \n",
    "        # extend type array\n",
    "        new = np.repeat(types_array[indices[0]], repeat_times, axis = 0)\n",
    "        expanded_array.append(new)\n",
    "        \n",
    "        # extend param\n",
    "        new = np.repeat(params_array[indices[0], :], repeat_times, axis = 0)\n",
    "        expanded_params_array.append(new)\n",
    "        \n",
    "        \n",
    "    # type\n",
    "    print(' ----------- Types ---------- ')\n",
    "    expanded_array = np.hstack(expanded_array)\n",
    "    print('ori type:', types_array.shape)\n",
    "    print('extend type:', expanded_array.shape)\n",
    "    types_array = np.concatenate((types_array, expanded_array), axis = 0)\n",
    "    print('total type:', types_array.shape)\n",
    "\n",
    "    # param\n",
    "    print(' ----------- params ---------- ')\n",
    "    expanded_params_array = np.vstack(expanded_params_array)\n",
    "    print('ori param:', params_array.shape)\n",
    "    print('extend param:', expanded_params_array.shape)\n",
    "    params_array = np.concatenate((params_array, expanded_params_array), axis = 0)\n",
    "    print('total param:', params_array.shape)\n",
    "    return types_array, params_array\n"
   ]
  },
  {
   "cell_type": "code",
   "execution_count": null,
   "id": "f9f7c516-fe19-46b0-99eb-795c8e291a43",
   "metadata": {},
   "outputs": [],
   "source": [
    "# Repeat the chosen parameters\n",
    "filtered_pattern_types_array = np.array(filtered_pattern_types_array)\n",
    "expanded_pattern_types_array, expanded_params_array = expand_to_num(filtered_pattern_types_array, filtered_params_array)"
   ]
  },
  {
   "cell_type": "code",
   "execution_count": 35,
   "id": "5a352dd3-93c3-4d6f-977e-9687baed4844",
   "metadata": {},
   "outputs": [],
   "source": [
    "# Save\n",
    "filename = output_dir + 'augment_params.npy'\n",
    "np.save(filename, np.array(expanded_params_array))\n",
    "filename = output_dir + 'augment_types.npy'\n",
    "np.save(filename, np.array(expanded_pattern_types_array))\n",
    "\n",
    "# Save params as txt\n",
    "filename = os.path.join(output_dir, 'augment_params.txt')\n",
    "np.savetxt(filename, expanded_params_array, delimiter=',', fmt='%0.8f')"
   ]
  }
 ],
 "metadata": {
  "kernelspec": {
   "display_name": "Python 3 (ipykernel)",
   "language": "python",
   "name": "python3"
  },
  "language_info": {
   "codemirror_mode": {
    "name": "ipython",
    "version": 3
   },
   "file_extension": ".py",
   "mimetype": "text/x-python",
   "name": "python",
   "nbconvert_exporter": "python",
   "pygments_lexer": "ipython3",
   "version": "3.8.18"
  },
  "toc-autonumbering": true
 },
 "nbformat": 4,
 "nbformat_minor": 5
}
