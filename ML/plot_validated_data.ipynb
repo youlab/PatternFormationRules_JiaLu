{
 "cells": [
  {
   "cell_type": "markdown",
   "id": "0a427cb4",
   "metadata": {},
   "source": [
    "# Library\n"
   ]
  },
  {
   "cell_type": "code",
   "execution_count": 1,
   "id": "b7f74876-e40b-4573-9779-f0adf4ab08f9",
   "metadata": {},
   "outputs": [],
   "source": [
    "# Library\n",
    "import matplotlib.pyplot as plt\n",
    "from scipy import stats\n",
    "import numpy as np\n",
    "import pandas as pd"
   ]
  },
  {
   "cell_type": "markdown",
   "id": "5066fecc",
   "metadata": {},
   "source": [
    "# Dataset"
   ]
  },
  {
   "cell_type": "code",
   "execution_count": null,
   "id": "6b16deaa-cbb0-4e41-a2dd-7fde823bfa5d",
   "metadata": {},
   "outputs": [],
   "source": [
    "# Load validated data\n",
    "output_dir = \"./data/\"\n",
    "\n",
    "# 1 ring\n",
    "filename = output_dir + 'matching_1_ML_params.npy'\n",
    "matching_1_ML_params = np.load(filename)\n",
    "filename = output_dir + 'matching_1_ML_types.npy'\n",
    "matching_1_ML_types = np.load(filename)\n",
    "\n",
    "# 2 rings\n",
    "filename = output_dir + 'matching_2_ML_params.npy'\n",
    "matching_2_ML_params = np.load(filename)\n",
    "filename = output_dir + 'matching_2_ML_types.npy'\n",
    "matching_2_ML_types = np.load(filename)\n",
    "\n",
    "# 3 rings\n",
    "filename = output_dir + 'matching_3_ML_params.npy'\n",
    "matching_3_ML_params = np.load(filename)\n",
    "filename = output_dir + 'matching_3_ML_types.npy'\n",
    "matching_3_ML_types = np.load(filename)\n",
    "\n",
    "print('finish loading')"
   ]
  },
  {
   "cell_type": "code",
   "execution_count": null,
   "id": "fc43350f-c8e9-472b-a24c-eb0b6db97784",
   "metadata": {},
   "outputs": [],
   "source": [
    "# params\n",
    "params_array_cont = np.concatenate((matching_1_ML_params,\n",
    "                                   matching_2_ML_params,\n",
    "                                   matching_3_ML_params,\n",
    "                                   ), axis=0)\n",
    "\n",
    "# Types\n",
    "pattern_types_array_cont = np.concatenate((matching_1_ML_types,\n",
    "                                          matching_2_ML_types,\n",
    "                                          matching_3_ML_types,\n",
    "                                          ), axis=0)\n",
    "params_range_opt = {\n",
    "    'DC': [0.5e-3, 12.5e-2],\n",
    "    'aC': [0.1, 1],\n",
    "    'aA': [100, 100000],\n",
    "    'aT': [10, 8000],\n",
    "    'aL': [5, 500],\n",
    "    'dA': [0.001, 0.1],\n",
    "    'dT': [3, 300],\n",
    "    'dL': [0.144, 14.4],\n",
    "    'alpha': [1, 5],\n",
    "    'beta':  [2, 2000],\n",
    "    'Kphi':  [1, 10],\n",
    "    'N0':  [200000, 5000000]\n",
    "}\n",
    "\n",
    "# Make df for plotting\n",
    "RFP_1_df = pd.DataFrame(matching_1_ML_params, columns=params_range_opt.keys())\n",
    "RFP_2_df = pd.DataFrame(matching_2_ML_params, columns=params_range_opt.keys())\n",
    "RFP_3_df = pd.DataFrame(matching_3_ML_params, columns=params_range_opt.keys())\n",
    "\n",
    "RFP_1_df['RFP_types'] = matching_1_ML_types\n",
    "RFP_2_df['RFP_types'] = matching_2_ML_types\n",
    "RFP_3_df['RFP_types'] = matching_3_ML_types\n",
    "\n",
    "# Non patterning sets\n",
    "df_nonpatterning = pd.concat([RFP_1_df[0:1000]\n",
    "                               ])\n",
    "# Patterning sets\n",
    "df_patterning = pd.concat([\n",
    "                              RFP_2_df[0:1000],\n",
    "                              RFP_3_df[0:1000], \n",
    "                             ])\n",
    "# All sets\n",
    "all_sets = pd.concat([df_patterning, \n",
    "                      df_nonpatterning\n",
    "                     ])"
   ]
  },
  {
   "cell_type": "markdown",
   "id": "82f82519",
   "metadata": {},
   "source": [
    "# Analyze"
   ]
  },
  {
   "cell_type": "code",
   "execution_count": null,
   "id": "3821e1dd-bdc8-4821-b5b7-37e8ee266e6a",
   "metadata": {},
   "outputs": [],
   "source": [
    "col_names = all_sets.columns\n",
    "print(col_names)\n",
    "\n",
    "# Plot\n",
    "color1 = \"#69b3a2\"\n",
    "color2 = \"#404080\"\n",
    "\n",
    "for column in col_names:\n",
    "    fig, ax = plt.subplots(figsize=(4, 2))\n",
    "    \n",
    "    # Log scales\n",
    "    if column in ['DC', 'aA', 'aT', 'aL', 'dA', 'dT', 'dL','beta']:\n",
    "        # Get bins\n",
    "        combined_data = all_sets[column]\n",
    "        min_bin = np.log10(combined_data[combined_data > 0].min())  # Log scale, ignore non-positive values\n",
    "        max_bin = np.log10(combined_data.max())\n",
    "        bins = np.logspace(min_bin, max_bin, 21)\n",
    "        \n",
    "        ax.set_xscale('log')\n",
    "\n",
    "     # Linear scales\n",
    "    else:\n",
    "       \n",
    "        # Get bins\n",
    "        combined_data = all_sets[column]\n",
    "        bins = np.linspace(combined_data.min(), combined_data.max(), 21)\n",
    "    \n",
    "    # Computate statistial signficance\n",
    "    KS_D, p_value = stats.kstest(df_patterning[column], df_nonpatterning[column])\n",
    "    if p_value <0.5:\n",
    "        print('Different -- ', p_value)\n",
    "    else:\n",
    "        print('Same')\n",
    "        \n",
    "    # 2+ rings\n",
    "    weights_pattern = np.ones_like(df_patterning[column]) / len(df_patterning[column])\n",
    "    ax.hist(df_patterning[column], bins=bins, alpha=0.5, weights=weights_pattern, label='2+ rings', color=color2, edgecolor='white')\n",
    "\n",
    "    # 1 ring\n",
    "    weights_nopattern = np.ones_like(df_nonpatterning[column]) / len(df_nonpatterning[column])\n",
    "    ax.hist(df_nonpatterning[column], bins=bins, alpha=0.5, weights=weights_nopattern, label='1 ring', color=color1, edgecolor='white')\n",
    "\n",
    "\n",
    "    ax.set_xlabel(column)\n",
    "    ax.set_ylabel('Frequency')\n",
    "    ax.legend()\n",
    "    plt.tight_layout()\n",
    "    plt.show()\n"
   ]
  }
 ],
 "metadata": {
  "kernelspec": {
   "display_name": "Python 3 (ipykernel)",
   "language": "python",
   "name": "python3"
  },
  "language_info": {
   "codemirror_mode": {
    "name": "ipython",
    "version": 3
   },
   "file_extension": ".py",
   "mimetype": "text/x-python",
   "name": "python",
   "nbconvert_exporter": "python",
   "pygments_lexer": "ipython3",
   "version": "3.8.18"
  }
 },
 "nbformat": 4,
 "nbformat_minor": 5
}
